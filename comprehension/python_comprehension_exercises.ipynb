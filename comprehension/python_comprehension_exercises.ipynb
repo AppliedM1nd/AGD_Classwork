{
 "cells": [
  {
   "cell_type": "markdown",
   "id": "f5f44608",
   "metadata": {},
   "source": [
    "# Python Comprehension Exercises\n",
    "This worksheet contains intermediate and advanced exercises using **list**, **dictionary**, and **set comprehensions** in Python. Each section includes original tasks and harder variations to challenge your understanding."
   ]
  },
  {
   "cell_type": "markdown",
   "id": "0500a102",
   "metadata": {},
   "source": [
    "## List Comprehension Exercises\n",
    "These exercises focus on creating and manipulating lists using comprehension syntax."
   ]
  },
  {
   "metadata": {},
   "cell_type": "markdown",
   "source": "### Starter Exercises",
   "id": "b047d81be5a6fb30"
  },
  {
   "metadata": {
    "jupyter": {
     "is_executing": true
    }
   },
   "cell_type": "code",
   "source": [
    "# 1. Create a list of the first 20 square numbers\n",
    "squares = [i**2 for i in range(1,21)]\n",
    "print(squares)"
   ],
   "id": "89a0d8f56783b0f0",
   "outputs": [],
   "execution_count": null
  },
  {
   "metadata": {},
   "cell_type": "code",
   "source": [
    "# 2. Create a list of the first 20 square numbers that are divisible by 3\n",
    "squares = [i**2 for i in range(1,21) if (i**2)%3 == 0]\n",
    "print(squares)"
   ],
   "id": "910cc1990b4bc4f8",
   "outputs": [],
   "execution_count": null
  },
  {
   "metadata": {
    "ExecuteTime": {
     "end_time": "2025-09-26T10:17:54.934732Z",
     "start_time": "2025-09-26T10:17:54.929986Z"
    }
   },
   "cell_type": "code",
   "source": [
    "# 3. Create a list representing the lengths of the words in the animals list\n",
    "animals = ['cat', 'elephant', 'rabbit', 'turkey', 'lion']\n",
    "animal_lengths = []\n",
    "print(animal_lengths)"
   ],
   "id": "6f576fa14ef4ddb2",
   "outputs": [
    {
     "name": "stdout",
     "output_type": "stream",
     "text": [
      "[]\n"
     ]
    }
   ],
   "execution_count": 1
  },
  {
   "metadata": {},
   "cell_type": "markdown",
   "source": "### Intermediate Exercises",
   "id": "be3e9465"
  },
  {
   "metadata": {
    "ExecuteTime": {
     "end_time": "2025-09-26T10:20:42.623527Z",
     "start_time": "2025-09-26T10:20:42.620336Z"
    }
   },
   "cell_type": "code",
   "source": [
    "# 1. Flatten a Nested List\n",
    "nested = [[1, 2], [3, 4], [5], [6, 7, 8, 9]]\n",
    "flat = [item for sub in nested for item in sub]\n",
    "print(flat)"
   ],
   "id": "9fb34ba6",
   "outputs": [
    {
     "name": "stdout",
     "output_type": "stream",
     "text": [
      "[1, 2, 3, 4, 5, 6, 7, 8, 9]\n"
     ]
    }
   ],
   "execution_count": 6
  },
  {
   "metadata": {
    "ExecuteTime": {
     "end_time": "2025-09-26T10:18:23.064829Z",
     "start_time": "2025-09-26T10:18:23.061828Z"
    }
   },
   "cell_type": "code",
   "source": [
    "# 2. Generate a List of Tuples (Number, Square, Cube) for numbers 1 to 10\n",
    "result = [(num,num**2,num**3)for num in range(1,11)]\n",
    "print(result)"
   ],
   "id": "c50f1143",
   "outputs": [
    {
     "name": "stdout",
     "output_type": "stream",
     "text": [
      "[(1, 1, 1), (2, 4, 8), (3, 9, 27), (4, 16, 64), (5, 25, 125), (6, 36, 216), (7, 49, 343), (8, 64, 512), (9, 81, 729), (10, 100, 1000)]\n"
     ]
    }
   ],
   "execution_count": 2
  },
  {
   "metadata": {
    "ExecuteTime": {
     "end_time": "2025-09-26T10:19:53.189175Z",
     "start_time": "2025-09-26T10:19:53.185272Z"
    }
   },
   "cell_type": "code",
   "source": [
    "# 3. Generate a List of coordinate pairs (i, j) where i and j are numbers from 1 to 10\n",
    "coordinates = [(i,j) for i in range(1,10) for j in range(1,10)]\n",
    "print(coordinates)"
   ],
   "id": "c5655c799dca457a",
   "outputs": [
    {
     "name": "stdout",
     "output_type": "stream",
     "text": [
      "[(1, 1), (1, 2), (1, 3), (1, 4), (1, 5), (1, 6), (1, 7), (1, 8), (1, 9), (2, 1), (2, 2), (2, 3), (2, 4), (2, 5), (2, 6), (2, 7), (2, 8), (2, 9), (3, 1), (3, 2), (3, 3), (3, 4), (3, 5), (3, 6), (3, 7), (3, 8), (3, 9), (4, 1), (4, 2), (4, 3), (4, 4), (4, 5), (4, 6), (4, 7), (4, 8), (4, 9), (5, 1), (5, 2), (5, 3), (5, 4), (5, 5), (5, 6), (5, 7), (5, 8), (5, 9), (6, 1), (6, 2), (6, 3), (6, 4), (6, 5), (6, 6), (6, 7), (6, 8), (6, 9), (7, 1), (7, 2), (7, 3), (7, 4), (7, 5), (7, 6), (7, 7), (7, 8), (7, 9), (8, 1), (8, 2), (8, 3), (8, 4), (8, 5), (8, 6), (8, 7), (8, 8), (8, 9), (9, 1), (9, 2), (9, 3), (9, 4), (9, 5), (9, 6), (9, 7), (9, 8), (9, 9)]\n"
     ]
    }
   ],
   "execution_count": 4
  },
  {
   "cell_type": "markdown",
   "id": "a93517b1",
   "metadata": {},
   "source": [
    "### Advanced Variations"
   ]
  },
  {
   "cell_type": "code",
   "id": "5c7faea7",
   "metadata": {
    "ExecuteTime": {
     "end_time": "2025-09-26T10:27:57.365199Z",
     "start_time": "2025-09-26T10:27:44.113292Z"
    }
   },
   "source": [
    "# 1. Generate a List of Pythagorean Triplets (a, b, c) with a + b + c = 1000\n",
    "triplets = [(a,b,c) for a in range(1,1000) for b in range(a,1000) for c in range(b,1000) if a**2 + b**2 == c**2 if a+b+c == 1000]\n",
    "print(triplets)"
   ],
   "outputs": [
    {
     "name": "stdout",
     "output_type": "stream",
     "text": [
      "[(200, 375, 425)]\n"
     ]
    }
   ],
   "execution_count": 11
  },
  {
   "cell_type": "markdown",
   "id": "9daf2cd9",
   "metadata": {},
   "source": [
    "## 📘 Dictionary Comprehension Exercises\n",
    "These exercises focus on creating and transforming dictionaries using comprehension syntax."
   ]
  },
  {
   "metadata": {},
   "cell_type": "markdown",
   "source": "### Starter Exercises",
   "id": "b5a42dd8c4703b05"
  },
  {
   "metadata": {
    "ExecuteTime": {
     "end_time": "2025-09-26T10:29:31.045068Z",
     "start_time": "2025-09-26T10:29:31.041671Z"
    }
   },
   "cell_type": "code",
   "source": [
    "# 1. Create a dictionary with the animals names as the key and the lengths of the names as the values\n",
    "animals = ['cat', 'elephant', 'rabbit', 'turkey', 'lion']\n",
    "animal_dictionary = {animal:len(animal) for animal in animals}\n",
    "print(animal_dictionary)"
   ],
   "id": "86baa26bd61ed602",
   "outputs": [
    {
     "name": "stdout",
     "output_type": "stream",
     "text": [
      "{'cat': 3, 'elephant': 8, 'rabbit': 6, 'turkey': 6, 'lion': 4}\n"
     ]
    }
   ],
   "execution_count": 13
  },
  {
   "metadata": {
    "ExecuteTime": {
     "end_time": "2025-09-26T10:32:42.651794Z",
     "start_time": "2025-09-26T10:32:42.648988Z"
    }
   },
   "cell_type": "code",
   "source": [
    "# 2. Create a dictionary where the keys are the numbers 1 to 10 and the values are strings '10' to '1'\n",
    "number_dict = {key:str(11-key) for key in range(1,11)}\n",
    "print(number_dict)"
   ],
   "id": "b22f7b7016ff4c72",
   "outputs": [
    {
     "name": "stdout",
     "output_type": "stream",
     "text": [
      "{1: '10', 2: '9', 3: '8', 4: '7', 5: '6', 6: '5', 7: '4', 8: '3', 9: '2', 10: '1'}\n"
     ]
    }
   ],
   "execution_count": 16
  },
  {
   "metadata": {},
   "cell_type": "markdown",
   "source": "### Intermediate Exercises",
   "id": "9acf027b"
  },
  {
   "metadata": {
    "ExecuteTime": {
     "end_time": "2025-09-26T10:33:24.639142Z",
     "start_time": "2025-09-26T10:33:24.636215Z"
    }
   },
   "cell_type": "code",
   "source": [
    "# 1. Invert a Dictionary so that keys become values and values become keys\n",
    "original = {'a': 1, 'b': 2, 'c': 3}\n",
    "inverted = {v:k for k,v in original.items()}\n",
    "print(inverted)"
   ],
   "id": "f2babe14",
   "outputs": [
    {
     "name": "stdout",
     "output_type": "stream",
     "text": [
      "{1: 'a', 2: 'b', 3: 'c'}\n"
     ]
    }
   ],
   "execution_count": 17
  },
  {
   "metadata": {
    "ExecuteTime": {
     "end_time": "2025-09-26T10:40:45.354700Z",
     "start_time": "2025-09-26T10:40:45.351559Z"
    }
   },
   "cell_type": "code",
   "source": [
    "# 2. Count Character Frequency in a String\n",
    "text = \"intermediate comprehension\"\n",
    "freq = {char: text.count(char) for char in set(text)}\n",
    "print(freq)"
   ],
   "id": "145986c9",
   "outputs": [
    {
     "name": "stdout",
     "output_type": "stream",
     "text": [
      "{' ': 1, 'c': 1, 'a': 1, 'm': 2, 'e': 5, 't': 2, 'o': 2, 'i': 3, 's': 1, 'd': 1, 'p': 1, 'h': 1, 'r': 2, 'n': 3}\n"
     ]
    }
   ],
   "execution_count": 20
  },
  {
   "metadata": {
    "ExecuteTime": {
     "end_time": "2025-09-26T10:41:58.990242Z",
     "start_time": "2025-09-26T10:41:58.986928Z"
    }
   },
   "cell_type": "code",
   "source": [
    "# 3. Map Numbers to Their Binary Representation for numbers one to 20 - e.g. {1: '1', 2: '10', ...}\n",
    "# Hint bin(5) gives the string '0b101'\n",
    "binary_map = {val:bin(val).replace('b','') for val in range(1,21)}\n",
    "print(binary_map)"
   ],
   "id": "186bf29e",
   "outputs": [
    {
     "name": "stdout",
     "output_type": "stream",
     "text": [
      "{1: '01', 2: '010', 3: '011', 4: '0100', 5: '0101', 6: '0110', 7: '0111', 8: '01000', 9: '01001', 10: '01010', 11: '01011', 12: '01100', 13: '01101', 14: '01110', 15: '01111', 16: '010000', 17: '010001', 18: '010010', 19: '010011', 20: '010100'}\n"
     ]
    }
   ],
   "execution_count": 23
  },
  {
   "metadata": {},
   "cell_type": "markdown",
   "source": "### Advanced Variations",
   "id": "7d75e2f8"
  },
  {
   "metadata": {
    "ExecuteTime": {
     "end_time": "2025-09-26T10:44:42.674807Z",
     "start_time": "2025-09-26T10:44:42.670636Z"
    }
   },
   "cell_type": "code",
   "source": [
    "# 1. Group Words by Their Length - e.g. {3: ['fig'], 5: ['apple', 'peach', 'grape'] , ...}\n",
    "words = [\"apple\", \"banana\", \"cherry\", \"peach\", \"fig\", \"grape\"]\n",
    "grouped = {len(fruit): [word for word in words if len(word) == len(fruit)] for fruit in words }\n",
    "print(grouped)"
   ],
   "id": "77213365",
   "outputs": [
    {
     "name": "stdout",
     "output_type": "stream",
     "text": [
      "{5: ['apple', 'peach', 'grape'], 6: ['banana', 'cherry'], 3: ['fig']}\n"
     ]
    }
   ],
   "execution_count": 24
  },
  {
   "cell_type": "markdown",
   "id": "fb967ace",
   "metadata": {},
   "source": [
    "## 🧮 Set Comprehension Exercises\n",
    "These exercises focus on extracting and manipulating sets using comprehension syntax."
   ]
  },
  {
   "metadata": {},
   "cell_type": "markdown",
   "source": "### Starter Exercises",
   "id": "b9d9dab14bf4a86f"
  },
  {
   "metadata": {
    "ExecuteTime": {
     "end_time": "2025-09-26T10:45:27.463774Z",
     "start_time": "2025-09-26T10:45:27.460169Z"
    }
   },
   "cell_type": "code",
   "source": [
    "# 1. Extract the set of characters from this word using a list comprehension\n",
    "# Note that this is equivalent to set(word)\n",
    "word = 'abracadabra'\n",
    "letters = {char for char in word}\n",
    "print(letters)"
   ],
   "id": "7dfc90f55c3df880",
   "outputs": [
    {
     "name": "stdout",
     "output_type": "stream",
     "text": [
      "{'c', 'b', 'a', 'd', 'r'}\n"
     ]
    }
   ],
   "execution_count": 25
  },
  {
   "metadata": {
    "ExecuteTime": {
     "end_time": "2025-09-26T10:46:23.008161Z",
     "start_time": "2025-09-26T10:46:23.005005Z"
    }
   },
   "cell_type": "code",
   "source": [
    "# 2. Extract the set of even numbers from the numbers in the list\n",
    "numbers = [6, 4, 2, 3, 5, 4, 6, 8, 2, 5, 7]\n",
    "even_number_set = {num for num in numbers if num%2 == 0}\n",
    "print(even_number_set)"
   ],
   "id": "5145df1f4b10d85f",
   "outputs": [
    {
     "name": "stdout",
     "output_type": "stream",
     "text": [
      "{8, 2, 4, 6}\n"
     ]
    }
   ],
   "execution_count": 26
  },
  {
   "metadata": {},
   "cell_type": "markdown",
   "source": "### Intermediate Exercises",
   "id": "78a2fe2a"
  },
  {
   "metadata": {
    "ExecuteTime": {
     "end_time": "2025-09-26T10:46:49.073431Z",
     "start_time": "2025-09-26T10:46:49.070516Z"
    }
   },
   "cell_type": "code",
   "source": [
    "# 1. Extract Unique Vowels from a Sentence\n",
    "sentence = \"Python comprehensions are powerful\"\n",
    "vowels = {char for char in sentence if char in 'aeiou'}\n",
    "print(vowels)"
   ],
   "id": "b4a25eb6",
   "outputs": [
    {
     "name": "stdout",
     "output_type": "stream",
     "text": [
      "{'u', 'a', 'e', 'o', 'i'}\n"
     ]
    }
   ],
   "execution_count": 27
  },
  {
   "metadata": {
    "ExecuteTime": {
     "end_time": "2025-09-26T10:49:29.178058Z",
     "start_time": "2025-09-26T10:49:29.174661Z"
    }
   },
   "cell_type": "code",
   "source": [
    "# 2. Find Common Elements in Two Lists using a list comprehension\n",
    "# Note that set(a) & set(b) will also achieve this\n",
    "a = [1, 2, 3, 4, 5]\n",
    "b = [4, 5, 6, 7]\n",
    "common = {item for item in set(a) if item in set(b)}\n",
    "print(common)"
   ],
   "id": "4839dffb",
   "outputs": [
    {
     "name": "stdout",
     "output_type": "stream",
     "text": [
      "{4, 5}\n"
     ]
    }
   ],
   "execution_count": 29
  },
  {
   "metadata": {},
   "cell_type": "markdown",
   "source": "### Advanced Variations",
   "id": "cdb058fc"
  },
  {
   "metadata": {
    "ExecuteTime": {
     "end_time": "2025-09-26T11:01:28.392577Z",
     "start_time": "2025-09-26T11:01:28.389758Z"
    }
   },
   "cell_type": "code",
   "source": [
    "# 3. Find All Unique Characters That Appear More Than Once in a String\n",
    "s = \"comprehension_challenge\"\n",
    "repeated = {char for char in set(s) if s.count(char)>1}\n",
    "print(repeated)"
   ],
   "id": "7a0817d1",
   "outputs": [
    {
     "name": "stdout",
     "output_type": "stream",
     "text": [
      "{'c', 'e', 'o', 'h', 'n', 'l'}\n"
     ]
    }
   ],
   "execution_count": 35
  },
  {
   "metadata": {
    "ExecuteTime": {
     "end_time": "2025-09-26T10:59:54.027902Z",
     "start_time": "2025-09-26T10:59:54.024581Z"
    }
   },
   "cell_type": "code",
   "source": [
    "# 1. Find All Unique Words in Two Paragraphs That Are Not Shared\n",
    "# Note that you can do this by using the xor operator (^) on the sets of wor\n",
    "para1 = \"Python is great for data science and machine learning\"\n",
    "para2 = \"JavaScript is great for web development and frontend design\"\n",
    "unique = set(para1.split()) ^ set(para2.split())\n",
    "print(unique)"
   ],
   "id": "89449dd3",
   "outputs": [
    {
     "name": "stdout",
     "output_type": "stream",
     "text": [
      "{'Python', 'science', 'learning', 'data', 'web', 'JavaScript', 'development', 'frontend', 'design', 'machine'}\n"
     ]
    }
   ],
   "execution_count": 34
  }
 ],
 "metadata": {
  "kernelspec": {
   "name": "python3",
   "language": "python",
   "display_name": "Python 3 (ipykernel)"
  }
 },
 "nbformat": 4,
 "nbformat_minor": 5
}
